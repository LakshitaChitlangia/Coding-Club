{
  "nbformat": 4,
  "nbformat_minor": 0,
  "metadata": {
    "colab": {
      "provenance": [],
      "include_colab_link": true
    },
    "kernelspec": {
      "name": "python3",
      "display_name": "Python 3"
    },
    "language_info": {
      "name": "python"
    }
  },
  "cells": [
    {
      "cell_type": "markdown",
      "metadata": {
        "id": "view-in-github",
        "colab_type": "text"
      },
      "source": [
        "<a href=\"https://colab.research.google.com/github/LakshitaChitlangia/Coding-Club/blob/main/3_13_2024_Classwork_Notebook_class.ipynb\" target=\"_parent\"><img src=\"https://colab.research.google.com/assets/colab-badge.svg\" alt=\"Open In Colab\"/></a>"
      ]
    },
    {
      "cell_type": "markdown",
      "source": [
        "#Week of 3.13.2024: Classes Part Continued\n",
        "\n",
        "\n",
        "\n",
        "\n"
      ],
      "metadata": {
        "id": "K3JVwUgVElwe"
      }
    },
    {
      "cell_type": "markdown",
      "source": [
        "###Section 1: Basic Inheritance\n"
      ],
      "metadata": {
        "id": "0R12ultbhgeY"
      }
    },
    {
      "cell_type": "markdown",
      "source": [
        "####Problem 1.1\n",
        "\n",
        "Create a class Device with attributes like brand, model, and price. Then, create a class Phone that inherits from Device and adds attributes like screen_size and camera_megapixels. Implement methods in both classes to display their information."
      ],
      "metadata": {
        "id": "KUMb3-UGB2hm"
      }
    },
    {
      "cell_type": "code",
      "source": [
        "class Device:\n",
        "  def __init__(self, brand, model, price):\n",
        "    self.brand = brand\n",
        "    self.model = model\n",
        "    self.price = price\n",
        "\n",
        "  def describe_device(self):\n",
        "    print(self.brand, self.model, self.price)\n",
        "\n",
        "\n",
        "class Phone(Device):\n",
        "  def __init__(self, brand, model, price, screen_size, camera_megapixels):\n",
        "    super().__init__(brand, model, price)\n",
        "    self.screen_size = screen_size\n",
        "    self.camera_megapixels = camera_megapixels\n",
        "\n",
        "  def describe_phone(self, name):\n",
        "    super().describe_device()\n",
        "    print(self.screen_size, self.camera_megapixels)\n",
        "    print(name)\n",
        "\n",
        "phone = Phone(\"Apple\", \"iPhone 15\", \"$100\", \"6.2 inches\", \"20 camera_megapixels\")\n",
        "phone.describe_phone(\"My Phone\")"
      ],
      "metadata": {
        "id": "EjdrrumAB3EH",
        "colab": {
          "base_uri": "https://localhost:8080/"
        },
        "outputId": "fc0bd4ab-1cb5-481c-fc0b-8701d02a8d2c"
      },
      "execution_count": 1,
      "outputs": [
        {
          "output_type": "stream",
          "name": "stdout",
          "text": [
            "Apple iPhone 15 $100\n",
            "6.2 inches 20 camera_megapixels\n",
            "My Phone\n"
          ]
        }
      ]
    },
    {
      "cell_type": "markdown",
      "source": [
        "####Problem 1.2\n",
        "\n",
        "Create a class Shape with methods for calculating area and perimeter. Then, create a class Circle that inherits from Shape and overrides the area method to calculate the area of a circle."
      ],
      "metadata": {
        "id": "KFswEq4SPgAv"
      }
    },
    {
      "cell_type": "code",
      "source": [
        "import math\n",
        "class Shape:\n",
        "  def __init__(self, type):\n",
        "    self.type = type\n",
        "\n",
        "  def describe_shape(self):\n",
        "    print(self.type)\n",
        "\n",
        "\n",
        "class Circle(Shape):\n",
        "  def __init__(self, radius):\n",
        "    super().__init__(\"circle\")\n",
        "    self.radius = radius\n",
        "\n",
        "  def calc_area(self):\n",
        "    print(3.14*self.radius*self.radius)\n",
        "\n",
        "  def calc_perimeter(self):\n",
        "    print(2*3.14*self.radius)\n",
        "\n",
        "  def describe_shape(self):\n",
        "    super().describe_shape()\n",
        "\n",
        "circle = Circle(5)\n",
        "circle.calc_area()\n",
        "circle.calc_perimeter()\n",
        "circle.describe_shape()"
      ],
      "metadata": {
        "id": "_3erEK2iPhjM",
        "colab": {
          "base_uri": "https://localhost:8080/"
        },
        "outputId": "558d8e26-8bbf-4fb1-f7f6-0a78ed67a542"
      },
      "execution_count": 10,
      "outputs": [
        {
          "output_type": "stream",
          "name": "stdout",
          "text": [
            "78.5\n",
            "31.400000000000002\n",
            "circle\n"
          ]
        }
      ]
    },
    {
      "cell_type": "markdown",
      "source": [
        "####Problem 1.3\n",
        "\n",
        "Create a base class Character with attributes like name, health, and attack.\n",
        "Create child classes Warrior, Mage, and Archer inheriting from Character.\n",
        "Add specific attributes and methods to each child class:\n",
        "\n",
        "*   Warrior: strength_level, melee_attack()\n",
        "*   Mage: wisdom_level, cast_spell()\n",
        "*   Archer: experience_level, ranged_attack()\n",
        "\n",
        "Implement a describe_character() method in each child class with specific damage calculations based on attributes.\n",
        "\n"
      ],
      "metadata": {
        "id": "EiGXdjc3fY9K"
      }
    },
    {
      "cell_type": "code",
      "source": [
        "class Character:\n",
        "  def __init__(self, name, health, attack):\n",
        "    self.name = name\n",
        "    self.health = health\n",
        "    self.attack = attack\n",
        "\n",
        "  def describe_character(self):\n",
        "    print(self.name, self.health, self.attack)\n",
        "\n",
        "class Warrior(Character):\n",
        "  def __init__(self, name, health, attack, strength_level):\n",
        "    super().__init__(name, health, attack)\n",
        "    self.strength_level = strength_level\n",
        "\n",
        "  def melee_attack(self):\n",
        "    print(\"strength_level = \" + self.strength_level)\n",
        "\n",
        "  def describe_character(self):\n",
        "    super().describe_character()\n",
        "    print(f'strength_level =  {self.strength_level}')\n",
        "    print(f'name, health, attack = {self.name, self.health, self.attack}')\n",
        "\n",
        "\n",
        "class Mage(Character):\n",
        "  def __init__(self, name, health, attack, wisdom_level):\n",
        "    super().__init__(name, health, attack)\n",
        "    self.wisdom_level = wisdom_level\n",
        "\n",
        "  def cast_spell(self):\n",
        "    print(\"wisdom = \" + self.wisdom_level)\n",
        "\n",
        "  def describe_character(self):\n",
        "    print(\"wisdom = \" + self.wisdom_level)\n",
        "\n",
        "class Archer(Character):\n",
        "  def __init__(self, name, health, attack, experience_level):\n",
        "    super().__init__(name, health, attack)\n",
        "    self.experience_level = experience_level\n",
        "\n",
        "  def ranged_attack(self):\n",
        "    print(\"range = \" + self.experience_level)\n",
        "\n",
        "  def describe_character(self):\n",
        "    print(\"range = \" + self.experience_level)\n",
        "\n",
        "warrior = Warrior(\"Superman\", \"strong\", \"powerful\", 10)\n",
        "warrior.describe_character()\n"
      ],
      "metadata": {
        "id": "VuZ1f5MTf7_x",
        "colab": {
          "base_uri": "https://localhost:8080/"
        },
        "outputId": "9a23172c-d1ba-429e-d3c9-a2b49782d8dd"
      },
      "execution_count": 13,
      "outputs": [
        {
          "output_type": "stream",
          "name": "stdout",
          "text": [
            "Superman strong powerful\n",
            "strength_level =  10\n",
            "name, health, attack = ('Superman', 'strong', 'powerful')\n"
          ]
        }
      ]
    },
    {
      "cell_type": "markdown",
      "source": [
        "###Section 2: Advanced Inheritance\n"
      ],
      "metadata": {
        "id": "dCKq22OE2AI9"
      }
    },
    {
      "cell_type": "markdown",
      "source": [
        "####Problem 2.1\n",
        "\n",
        "**Multiple Inheritance:** Create classes Employee and Student, each with their own attributes and methods. Then, create a class WorkingStudent that inherits from both Employee and Student. Implement methods to calculate the total income and workload of a WorkingStudent."
      ],
      "metadata": {
        "id": "UCxLZMon2itM"
      }
    },
    {
      "cell_type": "code",
      "source": [
        "class Employee:\n",
        "  def __init__(self, name, code_type, office):\n",
        "    self.name = name\n",
        "    self.code_type = code_type\n",
        "    self.office = office\n",
        "\n",
        "  def describe_employee(self):\n",
        "    print(self.name, self.code_type, self.office)\n",
        "\n",
        "class Student:\n",
        "  def __init__(self, year, IQ_level, school):\n",
        "    self.year = year\n",
        "    self.IQ_level = IQ_level\n",
        "    self.school = school\n",
        "\n",
        "  def describe_student(self):\n",
        "    print(self.year, self.IQ_level, self.school)\n",
        "\n",
        "class WorkingStudent(Employee, Student):\n",
        "  def __init__(self, name, code_type, office, year, IQ_level, school, workload):\n",
        "    Employee.__init__(self, name, code_type, office)\n",
        "    Student.__init__(self, year, IQ_level, school)\n",
        "    self.workload = workload\n",
        "\n",
        "  def describe_workingstudent(self):\n",
        "    super().describe_employee()\n",
        "    super().describe_student()\n",
        "    print(self.workload)\n",
        "\n",
        "workingstudent = WorkingStudent(\"Mokshda\", \"Python\", \"Buisness\", \"collage 4th year\", \"Exellent, 1000\", \"TSUS\", \"less\")\n",
        "workingstudent.describe_workingstudent()"
      ],
      "metadata": {
        "id": "SiU_oMtD2ocg",
        "colab": {
          "base_uri": "https://localhost:8080/"
        },
        "outputId": "6e143976-d223-406d-cb6b-ec34e3f434e2"
      },
      "execution_count": 3,
      "outputs": [
        {
          "output_type": "stream",
          "name": "stdout",
          "text": [
            "Mokshda Python Buisness\n",
            "collage 4th year Exellent, 1000 TSUS\n",
            "less\n"
          ]
        }
      ]
    },
    {
      "cell_type": "markdown",
      "source": [
        "####Problem 2.2\n",
        "\n",
        "**Multilevel Inheritance:** Create a class Vehicle with attributes like make and model. Then, create a class Car that inherits from Vehicle and adds attributes like number_of_doors. Finally, create an ElectricCar class that inherits from Car and adds attributes like battery_range. Implement methods to display information for each class."
      ],
      "metadata": {
        "id": "bZI18Ugu2qNO"
      }
    },
    {
      "cell_type": "code",
      "source": [
        "class Vehicle:\n",
        "  def __init__(self, make, model):\n",
        "    self.make = make\n",
        "    self.model = model\n",
        "\n",
        "  def describe_vehicle(self):\n",
        "    print(self.make, self.brand)\n",
        "\n",
        "class Car(Vehicle):\n",
        "  def __init__(self, make, model, doors):\n",
        "    super().__init__(make, model)\n",
        "    self.doors = doors\n",
        "\n",
        "  def describe_car(self):\n",
        "    print(self.doors)\n",
        "\n",
        "class ElectricCar(Car):\n",
        "  def __init__(self, make, model, doors, battery_range):\n",
        "    super().__init__(self, make, doors,)\n",
        "    self.battery_range = battery_range\n",
        "\n",
        "  def describe_electriccar(self):\n",
        "    print(self.battery_range)\n",
        "\n",
        "electriccar = ElectricCar(\"December\", \"Tesla\", 4, \"High\")\n",
        "electriccar.describe_electriccar()\n",
        "electriccar.describe_car()"
      ],
      "metadata": {
        "id": "NnfzYa_J3KzS",
        "colab": {
          "base_uri": "https://localhost:8080/"
        },
        "outputId": "5deae380-5003-45ee-dc32-d470aa5bc8bd"
      },
      "execution_count": 1,
      "outputs": [
        {
          "output_type": "stream",
          "name": "stdout",
          "text": [
            "High\n",
            "4\n"
          ]
        }
      ]
    },
    {
      "cell_type": "markdown",
      "source": [
        "####Problem 2.3\n",
        "\n",
        "**Hierarchial Inheritance:** Shape and Square and Rectangle: Create a base class Shape with methods to calculate area and perimeter. Then, create separate classes Square and Rectangle that inherit from Shape and implement their specific area and perimeter calculations."
      ],
      "metadata": {
        "id": "W0-FxY0g3NoP"
      }
    },
    {
      "cell_type": "code",
      "source": [
        "import math\n",
        "class shape"
      ],
      "metadata": {
        "id": "hGqKE-1V3czQ"
      },
      "execution_count": null,
      "outputs": []
    },
    {
      "cell_type": "markdown",
      "source": [
        "####Problem 2.4\n",
        "\n",
        "**Hybrid Inheritance (advanced)**: Shape and ColoredShape and ColoredCircle: Create classes Shape, ColoredShape, and ColoredCircle. Shape has methods for calculating area and perimeter. ColoredShape has an attribute color. ColoredCircle inherits from both and calculates the area of a colored circle."
      ],
      "metadata": {
        "id": "DHcKAQZI3eBF"
      }
    },
    {
      "cell_type": "code",
      "source": [],
      "metadata": {
        "id": "J4W21HVn3i92"
      },
      "execution_count": null,
      "outputs": []
    }
  ]
}