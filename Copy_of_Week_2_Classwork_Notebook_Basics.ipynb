{
  "nbformat": 4,
  "nbformat_minor": 0,
  "metadata": {
    "colab": {
      "provenance": [],
      "include_colab_link": true
    },
    "kernelspec": {
      "name": "python3",
      "display_name": "Python 3"
    },
    "language_info": {
      "name": "python"
    }
  },
  "cells": [
    {
      "cell_type": "markdown",
      "metadata": {
        "id": "view-in-github",
        "colab_type": "text"
      },
      "source": [
        "<a href=\"https://colab.research.google.com/github/LakshitaChitlangia/Coding-Club/blob/main/Copy_of_Week_2_Classwork_Notebook_Basics.ipynb\" target=\"_parent\"><img src=\"https://colab.research.google.com/assets/colab-badge.svg\" alt=\"Open In Colab\"/></a>"
      ]
    },
    {
      "cell_type": "markdown",
      "source": [
        "**Week 2: Basics**\n",
        "---\n",
        "\n",
        "### **Description**\n",
        "In this week, we will familiarize ourselves with printing statements and creating variables.\n",
        "\n",
        "<br>\n",
        "\n",
        "\n",
        "<br>\n",
        "\n",
        "### **Learning Objectives**\n",
        "By the end of this lab, we will:\n",
        "* Learn how to print strings\n",
        "* Create variables to store strings\n",
        "\n"
      ],
      "metadata": {
        "id": "K3JVwUgVElwe"
      }
    },
    {
      "cell_type": "markdown",
      "source": [
        "<a name=\"p1\"></a>\n",
        "\n",
        "---\n",
        "## **Part 1: Printing Strings**\n",
        "---"
      ],
      "metadata": {
        "id": "vFusVI8O6sd-"
      }
    },
    {
      "cell_type": "markdown",
      "source": [
        "#### **Problem #1.1**\n",
        "\n",
        "**Together**, let's print a hobby!"
      ],
      "metadata": {
        "id": "4EgRMGgY7J-X"
      }
    },
    {
      "cell_type": "code",
      "source": [],
      "metadata": {
        "id": "T8xD_JEjY5yf"
      },
      "execution_count": null,
      "outputs": []
    },
    {
      "cell_type": "markdown",
      "source": [
        "#### **Problem #1.2**\n",
        "\n",
        "**Independently**, let's print your favorite food!"
      ],
      "metadata": {
        "id": "0m36jq9PY4uY"
      }
    },
    {
      "cell_type": "code",
      "source": [],
      "metadata": {
        "id": "Gxm7jMAKYzz7"
      },
      "execution_count": null,
      "outputs": []
    },
    {
      "cell_type": "markdown",
      "source": [
        "<a name=\"p1\"></a>\n",
        "\n",
        "---\n",
        "## **Part 2: Variables**\n",
        "---"
      ],
      "metadata": {
        "id": "nlLXEG6dOMnH"
      }
    },
    {
      "cell_type": "markdown",
      "source": [
        "\n",
        "### Remember, variable rules:\n",
        "\n",
        "* Variable names can contain only letters, numbers, and underscores\n",
        "* Can’t start with number. Spaces are not allowed in variable names\n",
        "* Underscores can be used to separate words\n",
        "* Avoid using Python keywords and function\n",
        "* Short but descriptive\n",
        "* Careful when using the lowercase letter l and the uppercase letter O (confusing with numbers 1 and 0)"
      ],
      "metadata": {
        "id": "tVf7EavmaXIM"
      }
    },
    {
      "cell_type": "markdown",
      "source": [
        "#### **Problem #2.1**\n",
        "\n",
        "**Together**, let's create a variable for a favorite color"
      ],
      "metadata": {
        "id": "fW0v28kFPKJI"
      }
    },
    {
      "cell_type": "code",
      "source": [],
      "metadata": {
        "id": "aKfg9lCLZJzy"
      },
      "execution_count": null,
      "outputs": []
    },
    {
      "cell_type": "markdown",
      "source": [
        "#### **Problem #2.2**\n",
        "\n",
        "**Independently**,  store your favorite food."
      ],
      "metadata": {
        "id": "3ibIHkdzZ_RY"
      }
    },
    {
      "cell_type": "code",
      "source": [],
      "metadata": {
        "id": "y4bYp0JCROef"
      },
      "execution_count": null,
      "outputs": []
    },
    {
      "cell_type": "markdown",
      "source": [
        "#### **Problem #2.3**\n",
        "\n",
        "**Independently**,  store your name in the variable: name. Print your name. Change the variable into your friend's name. Print again."
      ],
      "metadata": {
        "id": "y1lmqKMNRMu3"
      }
    },
    {
      "cell_type": "code",
      "source": [
        "name ="
      ],
      "metadata": {
        "id": "YDF0Ryh5Pxra"
      },
      "execution_count": null,
      "outputs": []
    },
    {
      "cell_type": "markdown",
      "source": [
        "<a name=\"p1\"></a>\n",
        "\n",
        "---\n",
        "## **Part 3: Strings**\n",
        "---"
      ],
      "metadata": {
        "id": "hp8tfu0mP6md"
      }
    },
    {
      "cell_type": "markdown",
      "source": [
        "\n",
        "### **Remember, what is a string?**\n",
        "\n",
        "* The first data type we’ll look at is the string.\n",
        "* Strings are quite simple at first glance, but you can use them in many different ways.\n",
        "* A string is simply a series of characters.\n",
        "* Anything inside quotes is considered a string in Python, and you can use single or double quotes around your strings like this:\n",
        "*   -\"This is a string.\"\n",
        "*   -'This is also a string.'"
      ],
      "metadata": {
        "id": "BBM5MqpIP6md"
      }
    },
    {
      "cell_type": "markdown",
      "source": [
        "#### **Problem #3.1 (name.title())**\n",
        "\n",
        "**Together**, take a look at this example!"
      ],
      "metadata": {
        "id": "XeZhUKNHP6me"
      }
    },
    {
      "cell_type": "code",
      "source": [
        "name = \"aDa LovElace!\""
      ],
      "metadata": {
        "id": "d6Bk3T_0QuVD"
      },
      "execution_count": null,
      "outputs": []
    },
    {
      "cell_type": "markdown",
      "source": [
        "#### **Problem #3.2 (name.lower())**\n",
        "\n",
        "**Together**, take a look at this example!"
      ],
      "metadata": {
        "id": "iev56Bk6P6me"
      }
    },
    {
      "cell_type": "code",
      "source": [
        "name = \"aDa LovElace!\""
      ],
      "metadata": {
        "id": "5NoLV0LHQsf0"
      },
      "execution_count": null,
      "outputs": []
    },
    {
      "cell_type": "markdown",
      "source": [
        "#### **Problem #3.3 (name.upper())**\n",
        "\n",
        "**Together**, take a look at this example!"
      ],
      "metadata": {
        "id": "MWVVbA6eP6me"
      }
    },
    {
      "cell_type": "code",
      "source": [
        "name = \"aDa LovElace!\""
      ],
      "metadata": {
        "id": "dYN7xaB1P6me"
      },
      "execution_count": null,
      "outputs": []
    },
    {
      "cell_type": "markdown",
      "source": [
        "#### **Problem #3.4 (string concatenating)**\n",
        "\n",
        "**Together**,  Store a last name and a first name and combine them through concatenating to create a full name.\n"
      ],
      "metadata": {
        "id": "tdo2WRVaP6me"
      }
    },
    {
      "cell_type": "code",
      "source": [
        "first_name = \"Jane\"\n",
        "last_name = \"Doe\""
      ],
      "metadata": {
        "id": "s5ONmwuiP6me"
      },
      "execution_count": null,
      "outputs": []
    },
    {
      "cell_type": "code",
      "source": [
        "fruits = ['apple', 'bananas', 'watermelons']\n",
        "print(fruits)"
      ],
      "metadata": {
        "colab": {
          "base_uri": "https://localhost:8080/"
        },
        "id": "XSB_PL6017nj",
        "outputId": "3d2f1fb3-23eb-460e-e942-f1aac58538e7"
      },
      "execution_count": null,
      "outputs": [
        {
          "output_type": "stream",
          "name": "stdout",
          "text": [
            "['apple', 'bananas', 'watermelons']\n"
          ]
        }
      ]
    },
    {
      "cell_type": "code",
      "source": [
        "fruits.append('apple')\n",
        "print(fruits)"
      ],
      "metadata": {
        "colab": {
          "base_uri": "https://localhost:8080/"
        },
        "id": "hsXfyz0BplV0",
        "outputId": "4de10b40-afa0-49f6-b441-a82e6170c980"
      },
      "execution_count": null,
      "outputs": [
        {
          "output_type": "stream",
          "name": "stdout",
          "text": [
            "['apple', 'bananas', 'watermelons', 'apple', 'apple', 'apple']\n"
          ]
        }
      ]
    },
    {
      "cell_type": "code",
      "source": [
        "print(len(fruits))"
      ],
      "metadata": {
        "colab": {
          "base_uri": "https://localhost:8080/"
        },
        "id": "V070yoHUqaJp",
        "outputId": "b60f1e15-4c6d-4667-b77f-8083b3f82a02"
      },
      "execution_count": null,
      "outputs": [
        {
          "output_type": "stream",
          "name": "stdout",
          "text": [
            "6\n"
          ]
        }
      ]
    },
    {
      "cell_type": "code",
      "source": [
        "fruits.insert(1,'apple')\n",
        "print(fruits)"
      ],
      "metadata": {
        "colab": {
          "base_uri": "https://localhost:8080/"
        },
        "id": "Un-nezQyqlpO",
        "outputId": "49f8ffa8-96a8-482f-d8d3-f726e7ff7afc"
      },
      "execution_count": null,
      "outputs": [
        {
          "output_type": "stream",
          "name": "stdout",
          "text": [
            "['apple', 'apple', 'apple', 'bananas', 'watermelons', 'apple', 'apple', 'apple']\n"
          ]
        }
      ]
    },
    {
      "cell_type": "code",
      "source": [
        "print(fruits)"
      ],
      "metadata": {
        "colab": {
          "base_uri": "https://localhost:8080/"
        },
        "id": "30L8WfZcrDEB",
        "outputId": "aee7099a-0684-47e6-f086-0479d6bcac22"
      },
      "execution_count": null,
      "outputs": [
        {
          "output_type": "stream",
          "name": "stdout",
          "text": [
            "['apple', 'apple', 'apple', 'bananas', 'watermelons', 'apple', 'apple', 'apple']\n"
          ]
        }
      ]
    },
    {
      "cell_type": "code",
      "source": [
        "dollars = (1, 4, 6.02, 3.14)\n",
        "print(dollars)"
      ],
      "metadata": {
        "colab": {
          "base_uri": "https://localhost:8080/"
        },
        "id": "MEHeI96hs24C",
        "outputId": "352db46e-249c-4fc2-bc9c-6faa01d6f5ac"
      },
      "execution_count": null,
      "outputs": [
        {
          "output_type": "stream",
          "name": "stdout",
          "text": [
            "(1, 4, 6.02, 3.14)\n"
          ]
        }
      ]
    },
    {
      "cell_type": "code",
      "source": [],
      "metadata": {
        "id": "8ER0OL3EthXl"
      },
      "execution_count": null,
      "outputs": []
    },
    {
      "cell_type": "code",
      "source": [
        "print(fruits[3:6:4])"
      ],
      "metadata": {
        "colab": {
          "base_uri": "https://localhost:8080/"
        },
        "id": "7R2hVB-5rPLe",
        "outputId": "e5ceed65-ab2d-45c6-bef4-a2474d9c466e"
      },
      "execution_count": null,
      "outputs": [
        {
          "output_type": "stream",
          "name": "stdout",
          "text": [
            "['bananas']\n"
          ]
        }
      ]
    },
    {
      "cell_type": "code",
      "source": [
        "num1 = input(\"type a good number1\")\n",
        "print(num1)\n",
        "num2 = input(\"type a good number2\")\n",
        "print(num2)\n",
        "num3 = input(\"type a good number3\")\n",
        "print(num3)\n",
        "num4 = input(\"type a good number4\")\n",
        "print(num4)\n",
        "num5 = input(\"type a good number5\")\n",
        "print(num5)\n",
        "\n",
        "l = list[ num1,num2,num3,num4,num5]\n",
        "\n",
        "print(l)\n",
        "\n",
        "l2 = list[5,3,6,8,2,1]\n",
        "l2.sort()\n",
        "print(l2)\n"
      ],
      "metadata": {
        "colab": {
          "base_uri": "https://localhost:8080/",
          "height": 419
        },
        "id": "QlHofJWrvCLd",
        "outputId": "b15b6c48-57e6-42fe-9af6-b2b7dbd15672"
      },
      "execution_count": null,
      "outputs": [
        {
          "output_type": "stream",
          "name": "stdout",
          "text": [
            "type a good number11\n",
            "1\n",
            "type a good number21\n",
            "1\n",
            "type a good number31\n",
            "1\n",
            "type a good number41\n",
            "1\n",
            "type a good number51\n",
            "1\n",
            "list['1', '1', '1', '1', '1']\n"
          ]
        },
        {
          "output_type": "error",
          "ename": "TypeError",
          "evalue": "ignored",
          "traceback": [
            "\u001b[0;31m---------------------------------------------------------------------------\u001b[0m",
            "\u001b[0;31mTypeError\u001b[0m                                 Traceback (most recent call last)",
            "\u001b[0;32m<ipython-input-39-1c8d6b2cefac>\u001b[0m in \u001b[0;36m<cell line: 17>\u001b[0;34m()\u001b[0m\n\u001b[1;32m     15\u001b[0m \u001b[0;34m\u001b[0m\u001b[0m\n\u001b[1;32m     16\u001b[0m \u001b[0ml2\u001b[0m \u001b[0;34m=\u001b[0m \u001b[0mlist\u001b[0m\u001b[0;34m[\u001b[0m\u001b[0;36m5\u001b[0m\u001b[0;34m,\u001b[0m\u001b[0;36m3\u001b[0m\u001b[0;34m,\u001b[0m\u001b[0;36m6\u001b[0m\u001b[0;34m,\u001b[0m\u001b[0;36m8\u001b[0m\u001b[0;34m,\u001b[0m\u001b[0;36m2\u001b[0m\u001b[0;34m,\u001b[0m\u001b[0;36m1\u001b[0m\u001b[0;34m]\u001b[0m\u001b[0;34m\u001b[0m\u001b[0;34m\u001b[0m\u001b[0m\n\u001b[0;32m---> 17\u001b[0;31m \u001b[0ml2\u001b[0m\u001b[0;34m.\u001b[0m\u001b[0msort\u001b[0m\u001b[0;34m(\u001b[0m\u001b[0;34m)\u001b[0m\u001b[0;34m\u001b[0m\u001b[0;34m\u001b[0m\u001b[0m\n\u001b[0m\u001b[1;32m     18\u001b[0m \u001b[0mprint\u001b[0m\u001b[0;34m(\u001b[0m\u001b[0ml2\u001b[0m\u001b[0;34m)\u001b[0m\u001b[0;34m\u001b[0m\u001b[0;34m\u001b[0m\u001b[0m\n",
            "\u001b[0;31mTypeError\u001b[0m: unbound method list.sort() needs an argument"
          ]
        }
      ]
    },
    {
      "cell_type": "code",
      "source": [],
      "metadata": {
        "id": "NqxvVeF3t4LL"
      },
      "execution_count": null,
      "outputs": []
    }
  ]
}